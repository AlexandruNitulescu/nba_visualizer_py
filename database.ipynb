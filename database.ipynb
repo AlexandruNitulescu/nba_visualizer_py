{
 "cells": [
  {
   "attachments": {},
   "cell_type": "markdown",
   "metadata": {},
   "source": [
    "## Step 5 - Database"
   ]
  },
  {
   "attachments": {},
   "cell_type": "markdown",
   "metadata": {},
   "source": [
    "### Working with SQLite"
   ]
  },
  {
   "attachments": {},
   "cell_type": "markdown",
   "metadata": {},
   "source": [
    "##### Importing required packages"
   ]
  },
  {
   "cell_type": "code",
   "execution_count": 2,
   "metadata": {},
   "outputs": [],
   "source": [
    "import sqlite3\n",
    "from sqlite3 import Error"
   ]
  },
  {
   "cell_type": "code",
   "execution_count": 3,
   "metadata": {},
   "outputs": [],
   "source": [
    "def create_connection(db_file: str) -> sqlite3.Connection:\n",
    "    '''\n",
    "    Create a connection to an SQLite database file.\n",
    "\n",
    "    Args:\n",
    "        db_file (str): Path to the database file.\n",
    "    Returns:\n",
    "        conn (sqlite3.Connection): A Connection object representing the database connection.\n",
    "    '''\n",
    "    \n",
    "    conn = None\n",
    "    try:\n",
    "        conn = sqlite3.connect(db_file)\n",
    "        print(f\"Connection with {db_file} is sucessful!\")\n",
    "        return conn\n",
    "    except Error as e:\n",
    "        print(e)\n",
    "    return conn"
   ]
  },
  {
   "cell_type": "code",
   "execution_count": 4,
   "metadata": {},
   "outputs": [
    {
     "name": "stdout",
     "output_type": "stream",
     "text": [
      "Connection with nba.db is sucessful!\n"
     ]
    }
   ],
   "source": [
    "cursor = create_connection(\"nba.db\")"
   ]
  },
  {
   "cell_type": "code",
   "execution_count": 5,
   "metadata": {},
   "outputs": [],
   "source": [
    "query_create_gamedates = '''\n",
    "    CREATE TABLE IF NOT EXISTS game_dates(\n",
    "        date_id INTEGER PRIMARY KEY,\n",
    "        game_date TEXT\n",
    "    );\n",
    "'''"
   ]
  },
  {
   "cell_type": "code",
   "execution_count": 6,
   "metadata": {},
   "outputs": [
    {
     "data": {
      "text/plain": [
       "<sqlite3.Cursor at 0x1e769e07ac0>"
      ]
     },
     "execution_count": 6,
     "metadata": {},
     "output_type": "execute_result"
    }
   ],
   "source": [
    "cursor.execute(query_create_gamedates)"
   ]
  },
  {
   "cell_type": "code",
   "execution_count": 7,
   "metadata": {},
   "outputs": [],
   "source": [
    "cursor.commit()"
   ]
  },
  {
   "cell_type": "code",
   "execution_count": 8,
   "metadata": {},
   "outputs": [],
   "source": [
    "cursor.close()"
   ]
  },
  {
   "cell_type": "code",
   "execution_count": 9,
   "metadata": {},
   "outputs": [],
   "source": [
    "import csv"
   ]
  },
  {
   "cell_type": "code",
   "execution_count": 23,
   "metadata": {},
   "outputs": [
    {
     "name": "stdout",
     "output_type": "stream",
     "text": [
      "Connection with nba.db is sucessful!\n"
     ]
    }
   ],
   "source": [
    "cursor = create_connection('nba.db')"
   ]
  },
  {
   "cell_type": "code",
   "execution_count": 25,
   "metadata": {},
   "outputs": [
    {
     "name": "stdout",
     "output_type": "stream",
     "text": [
      "Connection with nba.db is sucessful!\n"
     ]
    },
    {
     "ename": "IndexError",
     "evalue": "list index out of range",
     "output_type": "error",
     "traceback": [
      "\u001b[1;31m---------------------------------------------------------------------------\u001b[0m",
      "\u001b[1;31mIndexError\u001b[0m                                Traceback (most recent call last)",
      "Cell \u001b[1;32mIn[25], line 7\u001b[0m\n\u001b[0;32m      5\u001b[0m     \u001b[39mnext\u001b[39m(game_dates_csv)\n\u001b[0;32m      6\u001b[0m     \u001b[39mfor\u001b[39;00m row \u001b[39min\u001b[39;00m game_dates_csv:\n\u001b[1;32m----> 7\u001b[0m         values \u001b[39m=\u001b[39m (row[\u001b[39m0\u001b[39m], row[\u001b[39m1\u001b[39;49m])\n\u001b[0;32m      8\u001b[0m         cursor\u001b[39m.\u001b[39mexecute(\u001b[39m\"\u001b[39m\u001b[39mINSERT INTO game_dates(date_id, game_date) VALUES (?, ?)\u001b[39m\u001b[39m\"\u001b[39m, values)\n\u001b[0;32m     10\u001b[0m \u001b[39m# Commit the changes and close the connection\u001b[39;00m\n",
      "\u001b[1;31mIndexError\u001b[0m: list index out of range"
     ]
    }
   ],
   "source": [
    "conn = create_connection('nba.db')\n",
    "# Read data from the CSV file and insert it into the database\n",
    "with open(\"./data/game_dates.csv\", 'r') as f:\n",
    "    game_dates_csv = csv.reader(f)\n",
    "    next(game_dates_csv)\n",
    "    for row in game_dates_csv:\n",
    "        values = (row[0], row[1])\n",
    "        cursor.execute(\"INSERT INTO game_dates(date_id, game_date) VALUES (?, ?)\", values)\n",
    "\n",
    "# Commit the changes and close the connection\n",
    "conn.commit()\n",
    "conn.close()"
   ]
  },
  {
   "cell_type": "code",
   "execution_count": 16,
   "metadata": {},
   "outputs": [
    {
     "name": "stdout",
     "output_type": "stream",
     "text": [
      "date_id;game_date\n",
      "1;2022-10-18\n",
      "2;2022-10-19\n",
      "3;2022-10-20\n",
      "<class 'list'>\n"
     ]
    }
   ],
   "source": [
    "with open(\"./data/game_dates.csv\", 'r') as f:\n",
    "    game_dates_csv = csv.reader(f)\n",
    "    count = 0\n",
    "    for row in game_dates_csv:\n",
    "        if count < 4:\n",
    "            print(row[0])\n",
    "\n",
    "    print(type(row))"
   ]
  },
  {
   "cell_type": "code",
   "execution_count": null,
   "metadata": {},
   "outputs": [],
   "source": []
  }
 ],
 "metadata": {
  "kernelspec": {
   "display_name": "env",
   "language": "python",
   "name": "python3"
  },
  "language_info": {
   "codemirror_mode": {
    "name": "ipython",
    "version": 3
   },
   "file_extension": ".py",
   "mimetype": "text/x-python",
   "name": "python",
   "nbconvert_exporter": "python",
   "pygments_lexer": "ipython3",
   "version": "3.10.4"
  },
  "orig_nbformat": 4
 },
 "nbformat": 4,
 "nbformat_minor": 2
}
