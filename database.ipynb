{
 "cells": [
  {
   "attachments": {},
   "cell_type": "markdown",
   "metadata": {},
   "source": [
    "# Step 4 - Working with Databases and SQL\n",
    "\n",
    "Author: Alexandru Nitulescu\n",
    "___\n",
    "### Table of Contents\n",
    "1. [Abstract](#Abstract)\n",
    "\n",
    "### Abstract\n",
    "In order to work with a SQL database, we first need to create a database and define the structure of our tables. We can then use SQL commands also called queries, to insert data into the tables, query the data to retrieve specific information, and perform other operations as needed."
   ]
  },
  {
   "attachments": {},
   "cell_type": "markdown",
   "metadata": {},
   "source": [
    "### 4.1 - Working with SQLite\n",
    "\n",
    "##### Introduction\n",
    "\n",
    "One way to store data in a SQL database is to use a SQLite database. SQLite is a lightweight and self-contained database system that can be easily integrated into a data analysis workflow. To store our data in a SQLite database, we first need to establish a connection to the database file using a library like sqlite3 in Python. We can then create tables within the database that correspond to the dataframes we have created.\n",
    "\n",
    "Once the tables have been created, we can insert our data into the database using SQL commands. It is important to ensure that the datatypes of the columns in the dataframes match the datatypes of the columns in the tables, so that the data is inserted correctly. We can also use SQL commands to retrieve data from the database, perform calculations, and create new tables as needed.\n",
    "\n",
    "Using a SQL database to store our data can offer several benefits, including improved data organization, faster data retrieval, and the ability to perform complex operations on large datasets. By storing our cleaned and preprocessed data in a database, we can also ensure that our analysis is reproducible and easily shared with others.\n",
    "\n",
    "##### Analyze the obvious problems\n",
    "* Describe the problem whenever we insert the data. \n",
    "* Mention about creating the tables and its primary keys-"
   ]
  },
  {
   "attachments": {},
   "cell_type": "markdown",
   "metadata": {},
   "source": [
    "##### 4.1.1 - Importing required packages\n",
    "We need to make sure we have all the required libraries imported. In this section, we'll be working with SQLite."
   ]
  },
  {
   "cell_type": "code",
   "execution_count": 108,
   "metadata": {},
   "outputs": [],
   "source": [
    "import sqlite3\n",
    "from sqlite3 import Error\n",
    "import csv"
   ]
  },
  {
   "attachments": {},
   "cell_type": "markdown",
   "metadata": {},
   "source": [
    "##### 4.1.2 - Creating a database file and connect to it\n",
    "We need to create a connection to an SQLite database file. If the database file doesn't exist, we will then create one."
   ]
  },
  {
   "cell_type": "code",
   "execution_count": 109,
   "metadata": {},
   "outputs": [],
   "source": [
    "def create_connection(db_file: str) -> sqlite3.Connection:\n",
    "    '''\n",
    "    Create a connection to an SQLite database file.\n",
    "\n",
    "    Args:\n",
    "        db_file (str): Path to the database file.\n",
    "    Returns:\n",
    "        conn (sqlite3.Connection): A Connection object representing the database connection.\n",
    "    '''\n",
    "    \n",
    "    conn = None\n",
    "    try:\n",
    "        conn = sqlite3.connect(db_file)\n",
    "        print(f\"Connection with {db_file} is sucessful!\")\n",
    "        return conn\n",
    "    except Error as e:\n",
    "        print(e)\n",
    "    return conn"
   ]
  },
  {
   "attachments": {},
   "cell_type": "markdown",
   "metadata": {},
   "source": [
    "A Connection object in SQLite is used to manage a connection to a database file. We will be using it in order to execute SQL statements.\n",
    "\n",
    "However, it is common to create a cursor from the Connection object in order to execute SQL commands on the database. A cursor is an object that allows you to interact with the database by executing SQL commands, fetching data from the database, and managing transactions. To create a cursor in SQLite, you can use the cursor() method of a Connection object."
   ]
  },
  {
   "cell_type": "code",
   "execution_count": 110,
   "metadata": {},
   "outputs": [
    {
     "name": "stdout",
     "output_type": "stream",
     "text": [
      "Connection with nba.db is sucessful!\n"
     ]
    }
   ],
   "source": [
    "# Creating a connection with the database file\n",
    "conn = create_connection(\"nba.db\")"
   ]
  },
  {
   "cell_type": "code",
   "execution_count": 111,
   "metadata": {},
   "outputs": [],
   "source": [
    "# Create a cursor\n",
    "cur = conn.cursor()"
   ]
  },
  {
   "attachments": {},
   "cell_type": "markdown",
   "metadata": {},
   "source": [
    "##### 4.1.3 - Creating the \"game_dates\" table"
   ]
  },
  {
   "attachments": {},
   "cell_type": "markdown",
   "metadata": {},
   "source": [
    "OBS! SQL queries will from now on stored in string variables indicated by \"q_\"."
   ]
  },
  {
   "cell_type": "code",
   "execution_count": 112,
   "metadata": {},
   "outputs": [],
   "source": [
    "# Define the SQL statement to create a table named game_dates. \"date_id\" will be the primary key in this table.\n",
    "q_create_gamedates_table = '''\n",
    "    CREATE TABLE IF NOT EXISTS game_dates(\n",
    "        date_id INTEGER PRIMARY KEY,\n",
    "        game_date DATE\n",
    "    );\n",
    "'''"
   ]
  },
  {
   "cell_type": "code",
   "execution_count": 113,
   "metadata": {},
   "outputs": [
    {
     "data": {
      "text/plain": [
       "<sqlite3.Cursor at 0x29f55b66f40>"
      ]
     },
     "execution_count": 113,
     "metadata": {},
     "output_type": "execute_result"
    }
   ],
   "source": [
    "# Execute the SQL statement to create the table\n",
    "cur.execute(q_create_gamedates_table)"
   ]
  },
  {
   "cell_type": "code",
   "execution_count": 114,
   "metadata": {},
   "outputs": [],
   "source": [
    "# Commit the changes to the database\n",
    "conn.commit()\n",
    "\n",
    "# Close the cursor and connection to the database\n",
    "cur.close()\n",
    "conn.close()"
   ]
  },
  {
   "attachments": {},
   "cell_type": "markdown",
   "metadata": {},
   "source": [
    "##### 4.1.4 - Insert data into \"game_dates\" table"
   ]
  },
  {
   "cell_type": "code",
   "execution_count": 115,
   "metadata": {},
   "outputs": [
    {
     "name": "stdout",
     "output_type": "stream",
     "text": [
      "Connection with nba.db is sucessful!\n",
      "No new data has been added to the CSV file.\n"
     ]
    }
   ],
   "source": [
    "# Step 1\n",
    "conn = create_connection('nba.db')\n",
    "cur = conn.cursor()\n",
    "\n",
    "cur.execute(\"SELECT COUNT(*) FROM game_dates\")\n",
    "q_game_dates_len = cur.fetchone()[0]\n",
    "\n",
    "# Get the rows that have already been inserted into the database\n",
    "cur.execute(\"SELECT game_date FROM game_dates\")\n",
    "q_game_dates = set(row[0] for row in cur.fetchall())\n",
    "\n",
    "with open(\"./data/game_dates.csv\", 'r') as f:\n",
    "    game_dates_csv = csv.reader(f, delimiter=\";\")\n",
    "    next(game_dates_csv) # Skip header\n",
    "    \n",
    "    new_rows = []\n",
    "    for row in game_dates_csv:\n",
    "        if row[1] not in q_game_dates:\n",
    "            new_rows.append(row)\n",
    "\n",
    "    if q_game_dates_len == 0:\n",
    "        for row in new_rows:\n",
    "            cur.execute(\"INSERT INTO game_dates(date_id, game_date) VALUES (?, ?)\", row)\n",
    "        print(\"Data has been inserted into the database.\")\n",
    "\n",
    "    elif len(new_rows) == 0:\n",
    "        print(\"No new data has been added to the CSV file.\")\n",
    "\n",
    "    else:\n",
    "        for row in new_rows:\n",
    "            cur.execute(\"INSERT INTO game_dates(date_id, game_date) VALUES (?, ?)\", row)\n",
    "        print(f\"{len(new_rows)} new rows have been inserted into the database.\")\n",
    "\n",
    "# Commit the changes to the database\n",
    "conn.commit()\n",
    "\n",
    "# Close the cursor and connection to the database\n",
    "cur.close()\n",
    "conn.close()"
   ]
  },
  {
   "attachments": {},
   "cell_type": "markdown",
   "metadata": {},
   "source": [
    "##### 4.1.5 - Creating the \"match_stats\", \"team_info\" and \"match_results\" tables and inserting data"
   ]
  },
  {
   "cell_type": "code",
   "execution_count": 116,
   "metadata": {},
   "outputs": [],
   "source": [
    "q_create_team_info_table = '''\n",
    "    CREATE TABLE IF NOT EXISTS team_info(\n",
    "        team_id TEXT PRIMARY KEY,\n",
    "        team_name TEXT,\n",
    "        arena_name TEXT,\n",
    "        latitude REAL,\n",
    "        longitude REAL\n",
    "    );\n",
    "'''"
   ]
  },
  {
   "cell_type": "code",
   "execution_count": 117,
   "metadata": {},
   "outputs": [
    {
     "name": "stdout",
     "output_type": "stream",
     "text": [
      "Connection with nba.db is sucessful!\n"
     ]
    }
   ],
   "source": [
    "conn = create_connection('nba.db')\n",
    "cur = conn.cursor()\n",
    "\n",
    "cur.execute(q_create_team_info_table)\n",
    "\n",
    "conn.commit()\n",
    "cur.close()\n",
    "conn.close()"
   ]
  },
  {
   "cell_type": "code",
   "execution_count": 118,
   "metadata": {},
   "outputs": [
    {
     "name": "stdout",
     "output_type": "stream",
     "text": [
      "Connection with nba.db is sucessful!\n",
      "The table already contains values.\n"
     ]
    }
   ],
   "source": [
    "# Step 2\n",
    "conn = create_connection('nba.db')\n",
    "cur = conn.cursor()\n",
    "\n",
    "cur.execute(\"SELECT COUNT(*) FROM team_info\")\n",
    "q_team_info_len = cur.fetchone()[0]\n",
    "\n",
    "with open(\"./data/team_info.csv\", 'r') as f:\n",
    "    team_info_csv = csv.reader(f, delimiter=\";\")\n",
    "    next(team_info_csv) # Skip header\n",
    "\n",
    "    if q_team_info_len == 0:\n",
    "        for row in team_info_csv:\n",
    "            cur.execute(\n",
    "                '''\n",
    "                INSERT INTO team_info(\n",
    "                team_id, team_name, arena_name, latitude, longitude)\n",
    "                VALUES(?, ?, ?, ?, ?)\n",
    "                ''', row)\n",
    "        print(\"Data has been inserted into table team_info.\")\n",
    "    else:\n",
    "        print(\"The table already contains values.\")\n",
    "\n",
    "conn.commit()\n",
    "cur.close()\n",
    "conn.close()"
   ]
  },
  {
   "cell_type": "code",
   "execution_count": 119,
   "metadata": {},
   "outputs": [],
   "source": [
    "q_create_match_info_table = '''\n",
    "    CREATE TABLE IF NOT EXISTS match_info(\n",
    "        match_id TEXT,\n",
    "        team_id TEXT,\n",
    "        date_id INTEGER,\n",
    "        result TEXT,\n",
    "        min INTEGER,\n",
    "        pts INTEGER,\n",
    "        PRIMARY KEY (match_id, team_id)\n",
    "    );\n",
    "'''"
   ]
  },
  {
   "cell_type": "code",
   "execution_count": 120,
   "metadata": {},
   "outputs": [
    {
     "data": {
      "text/plain": [
       "str"
      ]
     },
     "execution_count": 120,
     "metadata": {},
     "output_type": "execute_result"
    }
   ],
   "source": [
    "type(q_create_match_info_table)"
   ]
  },
  {
   "cell_type": "code",
   "execution_count": 121,
   "metadata": {},
   "outputs": [],
   "source": [
    "def query_to_db(db_file: str, query: str):\n",
    "    conn = create_connection(db_file)\n",
    "    cur = conn.cursor()\n",
    "    cur.execute(query)\n",
    "    conn.commit()\n",
    "    cur.close()\n",
    "    conn.close()"
   ]
  },
  {
   "cell_type": "code",
   "execution_count": 122,
   "metadata": {},
   "outputs": [
    {
     "name": "stdout",
     "output_type": "stream",
     "text": [
      "Connection with nba.db is sucessful!\n"
     ]
    }
   ],
   "source": [
    "query_to_db('nba.db', q_create_match_info_table)"
   ]
  },
  {
   "cell_type": "code",
   "execution_count": 151,
   "metadata": {},
   "outputs": [
    {
     "name": "stdout",
     "output_type": "stream",
     "text": [
      "Connection with nba.db is sucessful!\n",
      "No new data has been added to the CSV file.\n"
     ]
    }
   ],
   "source": [
    "# Step 3\n",
    "conn = create_connection('nba.db')\n",
    "cur = conn.cursor()\n",
    "\n",
    "cur.execute(\"SELECT COUNT(*) FROM match_info\")\n",
    "q_match_info_len = cur.fetchone()[0]\n",
    "\n",
    "cur.execute(\"SELECT * FROM match_info\")\n",
    "q_match_info = cur.fetchall()\n",
    "\n",
    "with open(\"./data/match_info.csv\", 'r') as f:\n",
    "    match_info_csv = csv.reader(f, delimiter=\";\")\n",
    "    next(match_info_csv) \n",
    "    \n",
    "    csv_rows = [(row[0], row[1], int(row[2]), row[3], int(row[4]), int(row[5]))for row in match_info_csv]\n",
    "    new_rows = []\n",
    "    new_rows = [row for row in csv_rows if row not in q_match_info]\n",
    "    \n",
    "    if q_match_info_len == 0:\n",
    "        for row in csv_rows:\n",
    "            cur.execute(\n",
    "                '''\n",
    "                INSERT INTO match_info(\n",
    "                match_id, team_id, date_id, result, min, pts)\n",
    "                VALUES(?, ?, ?, ?, ?, ?)\n",
    "                ''', row)\n",
    "        print(\"Data has been inserted into the table match_info.\")\n",
    "\n",
    "    elif len(new_rows) == 0:\n",
    "        print(\"No new data has been added to the CSV file.\")\n",
    "    \n",
    "    else:\n",
    "        for row in new_rows:\n",
    "            cur.execute(\n",
    "                '''\n",
    "                INSERT INTO match_info(\n",
    "                match_id, team_id, date_id, result, min, pts)\n",
    "                VALUES(?, ?, ?, ?, ?, ?)\n",
    "                ''', row)\n",
    "        print(\"Data has been inserted into the table match_info.\")\n",
    "        print(f\"{len(new_rows)} new rows have been inserted into the database.\")\n",
    "\n",
    "conn.commit()\n",
    "cur.close()\n",
    "conn.close()"
   ]
  },
  {
   "cell_type": "code",
   "execution_count": 154,
   "metadata": {},
   "outputs": [],
   "source": [
    "q_create_match_stats_table = '''\n",
    "    CREATE TABLE IF NOT EXISTS match_stats(\n",
    "        match_id TEXT,\n",
    "        team_id TEXT,\n",
    "        date_id INTEGER,\n",
    "        fgm INTEGER,\n",
    "        fga INTEGER,\n",
    "        fgp REAL,\n",
    "        tpm INTEGER,\n",
    "        tpa INTEGER,\n",
    "        tpp REAL,\n",
    "        ftm INTEGER,\n",
    "        fta INTEGER,\n",
    "        ftp REAL,\n",
    "        oreb INTEGER,\n",
    "        dreb INTEGER,\n",
    "        reb INTEGER,\n",
    "        ast INTEGER,\n",
    "        tov INTEGER,\n",
    "        stl INTEGER,\n",
    "        blk INTEGER,\n",
    "        pf INTEGER,\n",
    "        PRIMARY KEY (match_id, team_id)\n",
    "    );\n",
    "'''"
   ]
  },
  {
   "cell_type": "code",
   "execution_count": 155,
   "metadata": {},
   "outputs": [
    {
     "name": "stdout",
     "output_type": "stream",
     "text": [
      "Connection with nba.db is sucessful!\n"
     ]
    }
   ],
   "source": [
    "query_to_db('nba.db', q_create_match_stats_table)"
   ]
  },
  {
   "cell_type": "code",
   "execution_count": 157,
   "metadata": {},
   "outputs": [
    {
     "name": "stdout",
     "output_type": "stream",
     "text": [
      "Connection with nba.db is sucessful!\n",
      "Data has been inserted into the table match_stats.\n"
     ]
    }
   ],
   "source": [
    "# Step 3\n",
    "conn = create_connection('nba.db')\n",
    "cur = conn.cursor()\n",
    "\n",
    "cur.execute(\"SELECT COUNT(*) FROM match_stats\")\n",
    "q_match_stats_len = cur.fetchone()[0]\n",
    "\n",
    "cur.execute(\"SELECT * FROM match_stats\")\n",
    "q_match_stats = cur.fetchall()\n",
    "\n",
    "with open(\"./data/match_stats.csv\", 'r') as f:\n",
    "    match_stats_csv = csv.reader(f, delimiter=\";\")\n",
    "    next(match_stats_csv) \n",
    "    \n",
    "    csv_rows = [(str(row[0]), str(row[1]), int(row[2]), int(row[3]), int(row[4]), float(row[5]),\n",
    "                int(row[6]), int(row[7]), float(row[8]), int(row[9]), int(row[10]),\n",
    "                float(row[11]), int(row[12]), int(row[13]), int(row[14]), int(row[15]),\n",
    "                int(row[16]), int(row[17]), int(row[18]), int(row[19])) for row in match_stats_csv]\n",
    "    new_rows = []\n",
    "    new_rows = [row for row in csv_rows if row not in q_match_stats]\n",
    "    \n",
    "    if q_match_stats_len == 0:\n",
    "        for row in csv_rows:\n",
    "            cur.execute(\n",
    "                '''\n",
    "                INSERT INTO match_stats(\n",
    "                match_id, team_id, date_id, fgm, fga, fgp, tpm, tpa, tpp,\n",
    "                ftm, fta, ftp, oreb, dreb, reb, ast, tov, stl, blk, pf)\n",
    "                VALUES(?, ?, ?, ?, ?, ?, ?, ?, ?, ?, ?, ?, ?, ?, ?,?, ?, ?, ?, ?)\n",
    "                ''', row)\n",
    "        print(\"Data has been inserted into the table match_stats.\")\n",
    "\n",
    "    elif len(new_rows) == 0:\n",
    "        print(\"No new data has been added to the CSV file.\")\n",
    "    \n",
    "    else:\n",
    "        for row in new_rows:\n",
    "            cur.execute(\n",
    "                '''\n",
    "                INSERT INTO match_stats(\n",
    "                match_id, team_id, date_id, fgm, fga, fgp, tpm, tpa, tpp,\n",
    "                ftm, fta, ftp, oreb, dreb, reb, ast, tov, stl, blk, pf)\n",
    "                VALUES(?, ?, ?, ?, ?, ?, ?, ?, ?, ?, ?, ?, ?, ?, ?,?, ?, ?, ?, ?,)\n",
    "                ''', row)\n",
    "        print(\"Data has been inserted into the table match_stats.\")\n",
    "\n",
    "        print(\"Data has been inserted into the table match_stats.\")\n",
    "        print(f\"{len(new_rows)} new rows have been inserted into the database.\")\n",
    "\n",
    "conn.commit()\n",
    "cur.close()\n",
    "conn.close()"
   ]
  },
  {
   "attachments": {},
   "cell_type": "markdown",
   "metadata": {},
   "source": [
    "##### 4.1.6 - Relationships DBSM"
   ]
  },
  {
   "cell_type": "code",
   "execution_count": 203,
   "metadata": {},
   "outputs": [
    {
     "name": "stdout",
     "output_type": "stream",
     "text": [
      "Connection with nba.db is sucessful!\n"
     ]
    },
    {
     "ename": "OperationalError",
     "evalue": "near \"CONSTRAINT\": syntax error",
     "output_type": "error",
     "traceback": [
      "\u001b[1;31m---------------------------------------------------------------------------\u001b[0m",
      "\u001b[1;31mOperationalError\u001b[0m                          Traceback (most recent call last)",
      "Cell \u001b[1;32mIn[203], line 9\u001b[0m\n\u001b[0;32m      7\u001b[0m conn\u001b[39m.\u001b[39mexecute(\u001b[39m'\u001b[39m\u001b[39mPRAGMA foreign_keys = ON\u001b[39m\u001b[39m'\u001b[39m)\n\u001b[0;32m      8\u001b[0m cur \u001b[39m=\u001b[39m conn\u001b[39m.\u001b[39mcursor()\n\u001b[1;32m----> 9\u001b[0m cur\u001b[39m.\u001b[39;49mexecute(relationships)\n\u001b[0;32m     10\u001b[0m conn\u001b[39m.\u001b[39mcommit()\n\u001b[0;32m     11\u001b[0m cur\u001b[39m.\u001b[39mclose()\n",
      "\u001b[1;31mOperationalError\u001b[0m: near \"CONSTRAINT\": syntax error"
     ]
    }
   ],
   "source": [
    "relationships = '''\n",
    "    ALTER TABLE game_dates\n",
    "    ADD CONSTRAINT fk_game_dates_date_id\n",
    "    FOREIGN KEY(date_id) REFERENCES match_info(date_id);\n",
    "'''\n",
    "conn = create_connection('nba.db')\n",
    "conn.execute('PRAGMA foreign_keys = ON')\n",
    "cur = conn.cursor()\n",
    "cur.execute(relationships)\n",
    "conn.commit()\n",
    "cur.close()\n",
    "conn.close()\n"
   ]
  },
  {
   "attachments": {},
   "cell_type": "markdown",
   "metadata": {},
   "source": [
    "ALTER TABLE Orders\n",
    "ADD FOREIGN KEY (PersonID) REFERENCES Persons(PersonID);"
   ]
  },
  {
   "cell_type": "code",
   "execution_count": 195,
   "metadata": {},
   "outputs": [],
   "source": [
    "cur.close()\n",
    "conn.close()"
   ]
  },
  {
   "attachments": {},
   "cell_type": "markdown",
   "metadata": {},
   "source": [
    "### 4.2 - Working with SQLite\n",
    "\n",
    "##### Introduction"
   ]
  },
  {
   "cell_type": "code",
   "execution_count": 158,
   "metadata": {},
   "outputs": [],
   "source": [
    "import pandas as pd"
   ]
  },
  {
   "cell_type": "code",
   "execution_count": 159,
   "metadata": {},
   "outputs": [
    {
     "name": "stdout",
     "output_type": "stream",
     "text": [
      "Connection with nba.db is sucessful!\n"
     ]
    }
   ],
   "source": [
    "conn = create_connection('nba.db')"
   ]
  },
  {
   "cell_type": "code",
   "execution_count": 163,
   "metadata": {},
   "outputs": [],
   "source": [
    "q_show_match_stats_table = '''\n",
    "    SELECT * FROM match_stats\n",
    "'''"
   ]
  },
  {
   "cell_type": "code",
   "execution_count": 164,
   "metadata": {},
   "outputs": [
    {
     "data": {
      "text/html": [
       "<div>\n",
       "<style scoped>\n",
       "    .dataframe tbody tr th:only-of-type {\n",
       "        vertical-align: middle;\n",
       "    }\n",
       "\n",
       "    .dataframe tbody tr th {\n",
       "        vertical-align: top;\n",
       "    }\n",
       "\n",
       "    .dataframe thead th {\n",
       "        text-align: right;\n",
       "    }\n",
       "</style>\n",
       "<table border=\"1\" class=\"dataframe\">\n",
       "  <thead>\n",
       "    <tr style=\"text-align: right;\">\n",
       "      <th></th>\n",
       "      <th>match_id</th>\n",
       "      <th>team_id</th>\n",
       "      <th>date_id</th>\n",
       "      <th>fgm</th>\n",
       "      <th>fga</th>\n",
       "      <th>fgp</th>\n",
       "      <th>tpm</th>\n",
       "      <th>tpa</th>\n",
       "      <th>tpp</th>\n",
       "      <th>ftm</th>\n",
       "      <th>fta</th>\n",
       "      <th>ftp</th>\n",
       "      <th>oreb</th>\n",
       "      <th>dreb</th>\n",
       "      <th>reb</th>\n",
       "      <th>ast</th>\n",
       "      <th>tov</th>\n",
       "      <th>stl</th>\n",
       "      <th>blk</th>\n",
       "      <th>pf</th>\n",
       "    </tr>\n",
       "  </thead>\n",
       "  <tbody>\n",
       "    <tr>\n",
       "      <th>0</th>\n",
       "      <td>04022023ATL</td>\n",
       "      <td>ATL</td>\n",
       "      <td>158</td>\n",
       "      <td>51</td>\n",
       "      <td>108</td>\n",
       "      <td>47.2</td>\n",
       "      <td>12</td>\n",
       "      <td>35</td>\n",
       "      <td>34.3</td>\n",
       "      <td>18</td>\n",
       "      <td>22</td>\n",
       "      <td>81.8</td>\n",
       "      <td>16</td>\n",
       "      <td>37</td>\n",
       "      <td>53</td>\n",
       "      <td>28</td>\n",
       "      <td>11</td>\n",
       "      <td>10</td>\n",
       "      <td>3</td>\n",
       "      <td>22</td>\n",
       "    </tr>\n",
       "    <tr>\n",
       "      <th>1</th>\n",
       "      <td>04022023CHA</td>\n",
       "      <td>CHA</td>\n",
       "      <td>158</td>\n",
       "      <td>42</td>\n",
       "      <td>85</td>\n",
       "      <td>49.4</td>\n",
       "      <td>15</td>\n",
       "      <td>31</td>\n",
       "      <td>48.4</td>\n",
       "      <td>9</td>\n",
       "      <td>13</td>\n",
       "      <td>69.2</td>\n",
       "      <td>10</td>\n",
       "      <td>27</td>\n",
       "      <td>37</td>\n",
       "      <td>26</td>\n",
       "      <td>18</td>\n",
       "      <td>3</td>\n",
       "      <td>4</td>\n",
       "      <td>11</td>\n",
       "    </tr>\n",
       "    <tr>\n",
       "      <th>2</th>\n",
       "      <td>04022023MIL</td>\n",
       "      <td>PHI</td>\n",
       "      <td>158</td>\n",
       "      <td>40</td>\n",
       "      <td>87</td>\n",
       "      <td>46.0</td>\n",
       "      <td>12</td>\n",
       "      <td>36</td>\n",
       "      <td>33.3</td>\n",
       "      <td>12</td>\n",
       "      <td>13</td>\n",
       "      <td>92.3</td>\n",
       "      <td>11</td>\n",
       "      <td>25</td>\n",
       "      <td>36</td>\n",
       "      <td>19</td>\n",
       "      <td>11</td>\n",
       "      <td>3</td>\n",
       "      <td>2</td>\n",
       "      <td>17</td>\n",
       "    </tr>\n",
       "    <tr>\n",
       "      <th>3</th>\n",
       "      <td>04022023MIN</td>\n",
       "      <td>POR</td>\n",
       "      <td>158</td>\n",
       "      <td>43</td>\n",
       "      <td>93</td>\n",
       "      <td>46.2</td>\n",
       "      <td>9</td>\n",
       "      <td>30</td>\n",
       "      <td>30.0</td>\n",
       "      <td>12</td>\n",
       "      <td>20</td>\n",
       "      <td>60.0</td>\n",
       "      <td>11</td>\n",
       "      <td>31</td>\n",
       "      <td>42</td>\n",
       "      <td>29</td>\n",
       "      <td>10</td>\n",
       "      <td>12</td>\n",
       "      <td>3</td>\n",
       "      <td>26</td>\n",
       "    </tr>\n",
       "    <tr>\n",
       "      <th>4</th>\n",
       "      <td>04022023MIL</td>\n",
       "      <td>MIL</td>\n",
       "      <td>158</td>\n",
       "      <td>46</td>\n",
       "      <td>80</td>\n",
       "      <td>57.5</td>\n",
       "      <td>10</td>\n",
       "      <td>28</td>\n",
       "      <td>35.7</td>\n",
       "      <td>15</td>\n",
       "      <td>21</td>\n",
       "      <td>71.4</td>\n",
       "      <td>7</td>\n",
       "      <td>35</td>\n",
       "      <td>42</td>\n",
       "      <td>28</td>\n",
       "      <td>12</td>\n",
       "      <td>8</td>\n",
       "      <td>5</td>\n",
       "      <td>17</td>\n",
       "    </tr>\n",
       "    <tr>\n",
       "      <th>...</th>\n",
       "      <td>...</td>\n",
       "      <td>...</td>\n",
       "      <td>...</td>\n",
       "      <td>...</td>\n",
       "      <td>...</td>\n",
       "      <td>...</td>\n",
       "      <td>...</td>\n",
       "      <td>...</td>\n",
       "      <td>...</td>\n",
       "      <td>...</td>\n",
       "      <td>...</td>\n",
       "      <td>...</td>\n",
       "      <td>...</td>\n",
       "      <td>...</td>\n",
       "      <td>...</td>\n",
       "      <td>...</td>\n",
       "      <td>...</td>\n",
       "      <td>...</td>\n",
       "      <td>...</td>\n",
       "      <td>...</td>\n",
       "    </tr>\n",
       "    <tr>\n",
       "      <th>2345</th>\n",
       "      <td>10192022SAS</td>\n",
       "      <td>CHA</td>\n",
       "      <td>2</td>\n",
       "      <td>48</td>\n",
       "      <td>94</td>\n",
       "      <td>51.1</td>\n",
       "      <td>13</td>\n",
       "      <td>29</td>\n",
       "      <td>44.8</td>\n",
       "      <td>20</td>\n",
       "      <td>23</td>\n",
       "      <td>87.0</td>\n",
       "      <td>14</td>\n",
       "      <td>37</td>\n",
       "      <td>51</td>\n",
       "      <td>26</td>\n",
       "      <td>15</td>\n",
       "      <td>7</td>\n",
       "      <td>10</td>\n",
       "      <td>20</td>\n",
       "    </tr>\n",
       "    <tr>\n",
       "      <th>2346</th>\n",
       "      <td>10182022BOS</td>\n",
       "      <td>BOS</td>\n",
       "      <td>1</td>\n",
       "      <td>46</td>\n",
       "      <td>82</td>\n",
       "      <td>56.1</td>\n",
       "      <td>12</td>\n",
       "      <td>35</td>\n",
       "      <td>34.3</td>\n",
       "      <td>22</td>\n",
       "      <td>28</td>\n",
       "      <td>78.6</td>\n",
       "      <td>6</td>\n",
       "      <td>30</td>\n",
       "      <td>36</td>\n",
       "      <td>24</td>\n",
       "      <td>11</td>\n",
       "      <td>8</td>\n",
       "      <td>3</td>\n",
       "      <td>24</td>\n",
       "    </tr>\n",
       "    <tr>\n",
       "      <th>2347</th>\n",
       "      <td>10182022BOS</td>\n",
       "      <td>PHI</td>\n",
       "      <td>1</td>\n",
       "      <td>40</td>\n",
       "      <td>80</td>\n",
       "      <td>50.0</td>\n",
       "      <td>13</td>\n",
       "      <td>34</td>\n",
       "      <td>38.2</td>\n",
       "      <td>24</td>\n",
       "      <td>28</td>\n",
       "      <td>85.7</td>\n",
       "      <td>4</td>\n",
       "      <td>27</td>\n",
       "      <td>31</td>\n",
       "      <td>16</td>\n",
       "      <td>14</td>\n",
       "      <td>8</td>\n",
       "      <td>3</td>\n",
       "      <td>25</td>\n",
       "    </tr>\n",
       "    <tr>\n",
       "      <th>2348</th>\n",
       "      <td>10182022GSW</td>\n",
       "      <td>LAL</td>\n",
       "      <td>1</td>\n",
       "      <td>40</td>\n",
       "      <td>94</td>\n",
       "      <td>42.6</td>\n",
       "      <td>10</td>\n",
       "      <td>40</td>\n",
       "      <td>25.0</td>\n",
       "      <td>19</td>\n",
       "      <td>25</td>\n",
       "      <td>76.0</td>\n",
       "      <td>9</td>\n",
       "      <td>39</td>\n",
       "      <td>48</td>\n",
       "      <td>23</td>\n",
       "      <td>22</td>\n",
       "      <td>12</td>\n",
       "      <td>4</td>\n",
       "      <td>18</td>\n",
       "    </tr>\n",
       "    <tr>\n",
       "      <th>2349</th>\n",
       "      <td>10182022GSW</td>\n",
       "      <td>GSW</td>\n",
       "      <td>1</td>\n",
       "      <td>45</td>\n",
       "      <td>99</td>\n",
       "      <td>45.5</td>\n",
       "      <td>16</td>\n",
       "      <td>45</td>\n",
       "      <td>35.6</td>\n",
       "      <td>17</td>\n",
       "      <td>23</td>\n",
       "      <td>73.9</td>\n",
       "      <td>11</td>\n",
       "      <td>37</td>\n",
       "      <td>48</td>\n",
       "      <td>31</td>\n",
       "      <td>18</td>\n",
       "      <td>11</td>\n",
       "      <td>4</td>\n",
       "      <td>23</td>\n",
       "    </tr>\n",
       "  </tbody>\n",
       "</table>\n",
       "<p>2350 rows × 20 columns</p>\n",
       "</div>"
      ],
      "text/plain": [
       "         match_id team_id  date_id  fgm  fga   fgp  tpm  tpa   tpp  ftm  fta  \\\n",
       "0     04022023ATL     ATL      158   51  108  47.2   12   35  34.3   18   22   \n",
       "1     04022023CHA     CHA      158   42   85  49.4   15   31  48.4    9   13   \n",
       "2     04022023MIL     PHI      158   40   87  46.0   12   36  33.3   12   13   \n",
       "3     04022023MIN     POR      158   43   93  46.2    9   30  30.0   12   20   \n",
       "4     04022023MIL     MIL      158   46   80  57.5   10   28  35.7   15   21   \n",
       "...           ...     ...      ...  ...  ...   ...  ...  ...   ...  ...  ...   \n",
       "2345  10192022SAS     CHA        2   48   94  51.1   13   29  44.8   20   23   \n",
       "2346  10182022BOS     BOS        1   46   82  56.1   12   35  34.3   22   28   \n",
       "2347  10182022BOS     PHI        1   40   80  50.0   13   34  38.2   24   28   \n",
       "2348  10182022GSW     LAL        1   40   94  42.6   10   40  25.0   19   25   \n",
       "2349  10182022GSW     GSW        1   45   99  45.5   16   45  35.6   17   23   \n",
       "\n",
       "       ftp  oreb  dreb  reb  ast  tov  stl  blk  pf  \n",
       "0     81.8    16    37   53   28   11   10    3  22  \n",
       "1     69.2    10    27   37   26   18    3    4  11  \n",
       "2     92.3    11    25   36   19   11    3    2  17  \n",
       "3     60.0    11    31   42   29   10   12    3  26  \n",
       "4     71.4     7    35   42   28   12    8    5  17  \n",
       "...    ...   ...   ...  ...  ...  ...  ...  ...  ..  \n",
       "2345  87.0    14    37   51   26   15    7   10  20  \n",
       "2346  78.6     6    30   36   24   11    8    3  24  \n",
       "2347  85.7     4    27   31   16   14    8    3  25  \n",
       "2348  76.0     9    39   48   23   22   12    4  18  \n",
       "2349  73.9    11    37   48   31   18   11    4  23  \n",
       "\n",
       "[2350 rows x 20 columns]"
      ]
     },
     "execution_count": 164,
     "metadata": {},
     "output_type": "execute_result"
    }
   ],
   "source": [
    "tables = pd.read_sql(q_show_match_stats_table, conn)\n",
    "tables"
   ]
  },
  {
   "cell_type": "code",
   "execution_count": null,
   "metadata": {},
   "outputs": [],
   "source": []
  }
 ],
 "metadata": {
  "kernelspec": {
   "display_name": "env",
   "language": "python",
   "name": "python3"
  },
  "language_info": {
   "codemirror_mode": {
    "name": "ipython",
    "version": 3
   },
   "file_extension": ".py",
   "mimetype": "text/x-python",
   "name": "python",
   "nbconvert_exporter": "python",
   "pygments_lexer": "ipython3",
   "version": "3.10.7"
  },
  "orig_nbformat": 4
 },
 "nbformat": 4,
 "nbformat_minor": 2
}
