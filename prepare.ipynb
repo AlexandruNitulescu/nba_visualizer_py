{
 "cells": [
  {
   "attachments": {},
   "cell_type": "markdown",
   "metadata": {},
   "source": [
    "___\n",
    "# Step 2 - Prepare Phase\n",
    "**Author: Alexandru Nitulescu**\n",
    "____"
   ]
  },
  {
   "attachments": {},
   "cell_type": "markdown",
   "metadata": {},
   "source": [
    "### Table of Contents\n",
    "* [Introduction](#section-one)\n",
    "* [Setup](#section-two)\n",
    "    - [Installation of packages](#subsection-one)\n",
    "    - [Importing packages](#subsection-two)\n",
    "* [Webscrape data](#section-three)\n",
    "* [Create the Dataframe and save it](#section-four)\n",
    "\n",
    "<a id=\"section-one\"></a>\n",
    "### Introduction\n",
    "In the preparation phase of this project, Python and various packages are used to scrape data from [www.nba.com](https://www.nba.com/). However, before collecting and processing the data, we need to determine what information is necessary for the project and how it should be organized. By asking key questions such as:\n",
    "what data to retrieve, what metrics to display on future dashboards and how the data will be visualized, we were able to define the scope and requirements of the project. Additionally, identifying any prior knowledge needed and determining how to proceed helps to ensure that we were collecting and analyzing the necessary data to create a project solution. This phase is essential in setting the foundation for the subsequent data processing and database management phases."
   ]
  },
  {
   "attachments": {},
   "cell_type": "markdown",
   "metadata": {},
   "source": [
    "<a id=\"section-two\"></a>\n",
    "### Setup\n",
    "Before we begin our journey, we need to make sure that we have all the required libraries installed. In this section, we will import the necessary libraries for our web scraping task.\n",
    "\n",
    "* **BeautifulSoup (bs4)** - a library used for web scraping and parsing HTML and XML documents.\n",
    "\n",
    "* **Pandas** - a library used for data manipulation, analysis, and cleaning.\n",
    "* **Selenium** - a web testing framework that allows automated browser actions. The webdriver module provides various methods for locating elements on a web page using By class.\n",
    "\n",
    "<a id=\"subsection-one\"></a>\n",
    "#### Installation of packages\n",
    "To install all the packages from the **requirements.txt**, use following command in your terminal:\n",
    "\n",
    "`pip install -r requirements`\n",
    "<a id=\"subsection-two\"></a>\n",
    "#### Importing packages"
   ]
  },
  {
   "cell_type": "code",
   "execution_count": 2,
   "metadata": {},
   "outputs": [],
   "source": [
    "# Import necessary packages\n",
    "import pandas as pd \n",
    "from bs4 import BeautifulSoup \n",
    "from selenium.webdriver.common.by import By \n",
    "from selenium import webdriver "
   ]
  },
  {
   "attachments": {},
   "cell_type": "markdown",
   "metadata": {},
   "source": [
    "<a id=\"section-three\"></a>\n",
    "### Webscrape data"
   ]
  },
  {
   "cell_type": "code",
   "execution_count": 3,
   "metadata": {},
   "outputs": [],
   "source": [
    "# Create a new web browser instance of Chrome\n",
    "driver = webdriver.Chrome()"
   ]
  },
  {
   "cell_type": "code",
   "execution_count": 4,
   "metadata": {},
   "outputs": [],
   "source": [
    "# The url we want to visit\n",
    "url = 'https://www.nba.com/stats/teams/boxscores-traditional'"
   ]
  },
  {
   "cell_type": "code",
   "execution_count": 5,
   "metadata": {},
   "outputs": [],
   "source": [
    "# Open the webpage in our instance\n",
    "driver.get(url=url)"
   ]
  },
  {
   "cell_type": "code",
   "execution_count": 6,
   "metadata": {},
   "outputs": [],
   "source": [
    "# Navigate to the dropdown menu and select the option \"all\" to then click on it\n",
    "selection = driver.find_element(By.XPATH, '/html/body/div[1]/div[2]/div[2]/div[3]/section[2]/div/div[2]/div[2]/div[1]/div[3]/div/label/div/select/option[1]')\n",
    "selection.click()"
   ]
  },
  {
   "cell_type": "code",
   "execution_count": 7,
   "metadata": {},
   "outputs": [],
   "source": [
    "# Get the page source and store it in variable src\n",
    "src = driver.page_source"
   ]
  },
  {
   "attachments": {},
   "cell_type": "markdown",
   "metadata": {},
   "source": [
    "We have now written some code that automates the process of visiting the NBA website and extracting data from it. The script uses the Selenium library to simulate a web browser instance and navigate to the desired page. Once the page has loaded, the code uses the find_element method to locate the dropdown menu element and select the \"all\" option, before clicking it. The page source is then extracted and stored in the src variable for further processing."
   ]
  },
  {
   "cell_type": "code",
   "execution_count": 8,
   "metadata": {},
   "outputs": [],
   "source": [
    "# Parse the HTML source code\n",
    "parser = BeautifulSoup(src, \"html.parser\")"
   ]
  },
  {
   "cell_type": "code",
   "execution_count": 9,
   "metadata": {},
   "outputs": [],
   "source": [
    "# Find the div element containing the table\n",
    "table = parser.find(\"div\", attrs={\n",
    "    \"class\": \"Crom_container__C45Ti crom-container\"\n",
    "})"
   ]
  },
  {
   "attachments": {},
   "cell_type": "markdown",
   "metadata": {},
   "source": [
    "We are then parsing the HTML source code stored in the `src` variable using the BeautifulSoup library. Next code row searches for the div element with the class `Crom_container__C45Ti crom-container`, which contains the table we are interested in. We then store it in the `table` variable. Be aware that while searching for the correct table, it may not be necessary to provide such details, but for the sake of eliminating any errors throughout the process, we are aiming to specify and simplify as much as possible to ensure that the code accurately executes the intended actions."
   ]
  },
  {
   "cell_type": "code",
   "execution_count": 20,
   "metadata": {},
   "outputs": [
    {
     "name": "stdout",
     "output_type": "stream",
     "text": [
      "[<th class=\"Crom_text__NpR1_ Crom_sticky__uYvkp\" field=\"TEAM_ABBREVIATION\" sort=\"true\">TEAM</th>, <th class=\"Crom_text__NpR1_\" field=\"MATCHUP\" sort=\"true\">MATCH UP</th>, <th class=\"Crom_text__NpR1_\" dir=\"D\" field=\"GDATE\" sort=\"true\">GAME DATE</th>, <th dir=\"D\" field=\"WL\" sort=\"true\" title=\"Win/Loss\">W/L</th>, <th dir=\"D\" field=\"MIN\" sort=\"true\" title=\"Minutes Played\">MIN</th>, <th dir=\"D\" field=\"PTS\" sort=\"true\" title=\"Points\">PTS</th>, <th dir=\"D\" field=\"FGM\" sort=\"true\" title=\"Field Goals Made\">FGM</th>, <th dir=\"D\" field=\"FGA\" sort=\"true\" title=\"Field Goals Attempted\">FGA</th>, <th dir=\"D\" field=\"FG_PCT\" sort=\"true\" title=\"Field Goal Percentage\">FG%</th>, <th dir=\"D\" field=\"FG3M\" sort=\"true\" title=\"3 Point Field Goals Made\">3PM</th>, <th dir=\"D\" field=\"FG3A\" sort=\"true\" title=\"3 Point Field Goals Attempted\">3PA</th>, <th dir=\"D\" field=\"FG3_PCT\" sort=\"true\" title=\"3 Point Field Goal Percentage\">3P%</th>, <th dir=\"D\" field=\"FTM\" sort=\"true\" title=\"Free Throws Made\">FTM</th>, <th dir=\"D\" field=\"FTA\" sort=\"true\" title=\"Free Throws Attempted\">FTA</th>, <th dir=\"D\" field=\"FT_PCT\" sort=\"true\" title=\"Free Throw Percentage\">FT%</th>, <th dir=\"D\" field=\"OREB\" sort=\"true\" title=\"Offensive Rebounds\">OREB</th>, <th dir=\"D\" field=\"DREB\" sort=\"true\" title=\"Defensive Rebounds\">DREB</th>, <th dir=\"D\" field=\"REB\" sort=\"true\" title=\"Rebounds\">REB</th>, <th dir=\"D\" field=\"AST\" sort=\"true\" title=\"Assists\">AST</th>, <th dir=\"D\" field=\"TOV\" sort=\"true\" title=\"Turnovers\">TOV</th>, <th dir=\"D\" field=\"STL\" sort=\"true\" title=\"Steals\">STL</th>, <th dir=\"D\" field=\"BLK\" sort=\"true\" title=\"Blocks\">BLK</th>, <th dir=\"D\" field=\"PF\" sort=\"true\" title=\"Personal Fouls\">PF</th>, <th dir=\"D\" field=\"PLUS_MINUS\" sort=\"true\" title=\"Plus-Minus\">+/-</th>]\n"
     ]
    }
   ],
   "source": [
    "# Create an empty list for rows\n",
    "rows = []\n",
    "\n",
    "# Find all th elements within the table and extract their text\n",
    "headers = table.findAll('th')\n",
    "print(headers)\n",
    "header_list = [header.text.strip() for header in headers[1:]]"
   ]
  },
  {
   "cell_type": "code",
   "execution_count": 24,
   "metadata": {},
   "outputs": [
    {
     "name": "stdout",
     "output_type": "stream",
     "text": [
      "<tr><td class=\"Crom_text__NpR1_ Crom_sticky__uYvkp\"><a class=\"Anchor_anchor__cSc3P\" data-has-children=\"true\" data-has-more=\"false\" data-is-external=\"false\" href=\"/stats/team/1610612758\">SAC</a></td><td class=\"Crom_text__NpR1_\"><a class=\"Anchor_anchor__cSc3P\" data-has-children=\"true\" data-has-more=\"false\" data-is-external=\"false\" href=\"/game/0022201195\">SAC @ DAL</a></td><td class=\"Crom_text__NpR1_\"><a class=\"Anchor_anchor__cSc3P\" data-has-children=\"true\" data-has-more=\"false\" data-is-external=\"false\" href=\"/games?date=04/05/2023\">04/05/2023</a></td><td>L</td><td>48</td><td>119</td><td><a class=\"StatEventLink_sel__pAwmA\" data-id=\"nba:games:game-details-box-score:video-box-score\" data-pos=\"\" data-premium=\"false\" data-track=\"video\" href=\"/stats/events/?CFID=&amp;CFPARAMS=&amp;ContextMeasure=FGM&amp;GameID=0022201195&amp;PlayerID=0&amp;Season=2022-23&amp;SeasonType=Regular%20Season&amp;TeamID=1610612758&amp;flag=3&amp;sct=plot&amp;section=game\">46</a></td><td><a class=\"StatEventLink_sel__pAwmA\" data-id=\"nba:games:game-details-box-score:video-box-score\" data-pos=\"\" data-premium=\"false\" data-track=\"video\" href=\"/stats/events/?CFID=&amp;CFPARAMS=&amp;ContextMeasure=FGA&amp;GameID=0022201195&amp;PlayerID=0&amp;Season=2022-23&amp;SeasonType=Regular%20Season&amp;TeamID=1610612758&amp;flag=3&amp;sct=plot&amp;section=game\">106</a></td><td>43.4</td><td><a class=\"StatEventLink_sel__pAwmA\" data-id=\"nba:games:game-details-box-score:video-box-score\" data-pos=\"\" data-premium=\"false\" data-track=\"video\" href=\"/stats/events/?CFID=&amp;CFPARAMS=&amp;ContextMeasure=FG3M&amp;GameID=0022201195&amp;PlayerID=0&amp;Season=2022-23&amp;SeasonType=Regular%20Season&amp;TeamID=1610612758&amp;flag=3&amp;sct=plot&amp;section=game\">12</a></td><td><a class=\"StatEventLink_sel__pAwmA\" data-id=\"nba:games:game-details-box-score:video-box-score\" data-pos=\"\" data-premium=\"false\" data-track=\"video\" href=\"/stats/events/?CFID=&amp;CFPARAMS=&amp;ContextMeasure=FG3A&amp;GameID=0022201195&amp;PlayerID=0&amp;Season=2022-23&amp;SeasonType=Regular%20Season&amp;TeamID=1610612758&amp;flag=3&amp;sct=plot&amp;section=game\">37</a></td><td>32.4</td><td>15</td><td>19</td><td>78.9</td><td><a class=\"StatEventLink_sel__pAwmA\" data-id=\"nba:games:game-details-box-score:video-box-score\" data-pos=\"\" data-premium=\"false\" data-track=\"video\" href=\"/stats/events/?CFID=&amp;CFPARAMS=&amp;ContextMeasure=OREB&amp;GameID=0022201195&amp;PlayerID=0&amp;Season=2022-23&amp;SeasonType=Regular%20Season&amp;TeamID=1610612758&amp;flag=1&amp;sct=plot&amp;section=game\">22</a></td><td><a class=\"StatEventLink_sel__pAwmA\" data-id=\"nba:games:game-details-box-score:video-box-score\" data-pos=\"\" data-premium=\"false\" data-track=\"video\" href=\"/stats/events/?CFID=&amp;CFPARAMS=&amp;ContextMeasure=DREB&amp;GameID=0022201195&amp;PlayerID=0&amp;Season=2022-23&amp;SeasonType=Regular%20Season&amp;TeamID=1610612758&amp;flag=1&amp;sct=plot&amp;section=game\">35</a></td><td><a class=\"StatEventLink_sel__pAwmA\" data-id=\"nba:games:game-details-box-score:video-box-score\" data-pos=\"\" data-premium=\"false\" data-track=\"video\" href=\"/stats/events/?CFID=&amp;CFPARAMS=&amp;ContextMeasure=REB&amp;GameID=0022201195&amp;PlayerID=0&amp;Season=2022-23&amp;SeasonType=Regular%20Season&amp;TeamID=1610612758&amp;flag=1&amp;sct=plot&amp;section=game\">57</a></td><td><a class=\"StatEventLink_sel__pAwmA\" data-id=\"nba:games:game-details-box-score:video-box-score\" data-pos=\"\" data-premium=\"false\" data-track=\"video\" href=\"/stats/events/?CFID=&amp;CFPARAMS=&amp;ContextMeasure=AST&amp;GameID=0022201195&amp;PlayerID=0&amp;Season=2022-23&amp;SeasonType=Regular%20Season&amp;TeamID=1610612758&amp;flag=1&amp;sct=plot&amp;section=game\">31</a></td><td><a class=\"StatEventLink_sel__pAwmA\" data-id=\"nba:games:game-details-box-score:video-box-score\" data-pos=\"\" data-premium=\"false\" data-track=\"video\" href=\"/stats/events/?CFID=&amp;CFPARAMS=&amp;ContextMeasure=TOV&amp;GameID=0022201195&amp;PlayerID=0&amp;Season=2022-23&amp;SeasonType=Regular%20Season&amp;TeamID=1610612758&amp;flag=1&amp;sct=plot&amp;section=game\">9</a></td><td><a class=\"StatEventLink_sel__pAwmA\" data-id=\"nba:games:game-details-box-score:video-box-score\" data-pos=\"\" data-premium=\"false\" data-track=\"video\" href=\"/stats/events/?CFID=&amp;CFPARAMS=&amp;ContextMeasure=STL&amp;GameID=0022201195&amp;PlayerID=0&amp;Season=2022-23&amp;SeasonType=Regular%20Season&amp;TeamID=1610612758&amp;flag=1&amp;sct=plot&amp;section=game\">7</a></td><td><a class=\"StatEventLink_sel__pAwmA\" data-id=\"nba:games:game-details-box-score:video-box-score\" data-pos=\"\" data-premium=\"false\" data-track=\"video\" href=\"/stats/events/?CFID=&amp;CFPARAMS=&amp;ContextMeasure=BLK&amp;GameID=0022201195&amp;PlayerID=0&amp;Season=2022-23&amp;SeasonType=Regular%20Season&amp;TeamID=1610612758&amp;flag=1&amp;sct=plot&amp;section=game\">1</a></td><td>19</td><td>-4</td></tr>\n"
     ]
    }
   ],
   "source": [
    "# Find all tr elements within the table except for the first one\n",
    "rows = table.findAll('tr')[1:]\n",
    "print(rows[0])"
   ]
  },
  {
   "cell_type": "code",
   "execution_count": 12,
   "metadata": {},
   "outputs": [
    {
     "data": {
      "text/plain": [
       "2392"
      ]
     },
     "execution_count": 12,
     "metadata": {},
     "output_type": "execute_result"
    }
   ],
   "source": [
    "# Verify the amount of rows scraped\n",
    "len(rows)"
   ]
  },
  {
   "cell_type": "code",
   "execution_count": 25,
   "metadata": {},
   "outputs": [
    {
     "name": "stdout",
     "output_type": "stream",
     "text": [
      "['SAC @ DAL', '04/05/2023', 'L', '48', '119', '46', '106', '43.4', '12', '37', '32.4', '15', '19', '78.9', '22', '35', '57', '31', '9', '7', '1', '19', '-4']\n"
     ]
    }
   ],
   "source": [
    "# List comprehension to iterate over the rows of the table\n",
    "team_stats = [[td.getText().strip() for td in rows[i].findAll('td')[1:]] for i in range(len(rows))]\n",
    "print(team_stats[0])"
   ]
  },
  {
   "attachments": {},
   "cell_type": "markdown",
   "metadata": {},
   "source": [
    "An empty list is created for the rows to be stored in. All `th` elements within the table are found and their text is extracted and stored in a list called `header_list`. All `tr` elements within the table, except the first one, are located and stored in the `rows` variable. A list comprehension is used to iterate over the rows of the table. For each row, a list of text from the `td` elements, excluding the first one, is created and stored in a list called team_stats."
   ]
  },
  {
   "attachments": {},
   "cell_type": "markdown",
   "metadata": {},
   "source": [
    "<a id=\"section-four\"></a>\n",
    "### Create the Dataframe and save it\n",
    "We will now create a Pandas dataframe using the data from the two lists called `team_stats` and `header_list`. \n",
    "* `team_stats` contains the data \n",
    "* `header_list` contains the column names\n",
    "\n",
    "Afterwards, we will preview the first five rows of the dataframe to ensure its consistency.\n",
    "Finally we will save the dataframe as a `.csv` in the `data` directory. The `sep` parameter specifies the separator between data values which in our case will be a semicolon."
   ]
  },
  {
   "cell_type": "code",
   "execution_count": 15,
   "metadata": {},
   "outputs": [],
   "source": [
    "# Create a dataframe from the 'team_stats' list and the 'header_list'\n",
    "df = pd.DataFrame(team_stats, columns=header_list)"
   ]
  },
  {
   "cell_type": "code",
   "execution_count": 16,
   "metadata": {},
   "outputs": [
    {
     "data": {
      "text/html": [
       "<div>\n",
       "<style scoped>\n",
       "    .dataframe tbody tr th:only-of-type {\n",
       "        vertical-align: middle;\n",
       "    }\n",
       "\n",
       "    .dataframe tbody tr th {\n",
       "        vertical-align: top;\n",
       "    }\n",
       "\n",
       "    .dataframe thead th {\n",
       "        text-align: right;\n",
       "    }\n",
       "</style>\n",
       "<table border=\"1\" class=\"dataframe\">\n",
       "  <thead>\n",
       "    <tr style=\"text-align: right;\">\n",
       "      <th></th>\n",
       "      <th>MATCH UP</th>\n",
       "      <th>GAME DATE</th>\n",
       "      <th>W/L</th>\n",
       "      <th>MIN</th>\n",
       "      <th>PTS</th>\n",
       "      <th>FGM</th>\n",
       "      <th>FGA</th>\n",
       "      <th>FG%</th>\n",
       "      <th>3PM</th>\n",
       "      <th>3PA</th>\n",
       "      <th>...</th>\n",
       "      <th>FT%</th>\n",
       "      <th>OREB</th>\n",
       "      <th>DREB</th>\n",
       "      <th>REB</th>\n",
       "      <th>AST</th>\n",
       "      <th>TOV</th>\n",
       "      <th>STL</th>\n",
       "      <th>BLK</th>\n",
       "      <th>PF</th>\n",
       "      <th>+/-</th>\n",
       "    </tr>\n",
       "  </thead>\n",
       "  <tbody>\n",
       "    <tr>\n",
       "      <th>0</th>\n",
       "      <td>SAC @ DAL</td>\n",
       "      <td>04/05/2023</td>\n",
       "      <td>L</td>\n",
       "      <td>48</td>\n",
       "      <td>119</td>\n",
       "      <td>46</td>\n",
       "      <td>106</td>\n",
       "      <td>43.4</td>\n",
       "      <td>12</td>\n",
       "      <td>37</td>\n",
       "      <td>...</td>\n",
       "      <td>78.9</td>\n",
       "      <td>22</td>\n",
       "      <td>35</td>\n",
       "      <td>57</td>\n",
       "      <td>31</td>\n",
       "      <td>9</td>\n",
       "      <td>7</td>\n",
       "      <td>1</td>\n",
       "      <td>19</td>\n",
       "      <td>-4</td>\n",
       "    </tr>\n",
       "    <tr>\n",
       "      <th>1</th>\n",
       "      <td>NOP vs. MEM</td>\n",
       "      <td>04/05/2023</td>\n",
       "      <td>W</td>\n",
       "      <td>53</td>\n",
       "      <td>138</td>\n",
       "      <td>44</td>\n",
       "      <td>88</td>\n",
       "      <td>50.0</td>\n",
       "      <td>21</td>\n",
       "      <td>39</td>\n",
       "      <td>...</td>\n",
       "      <td>74.4</td>\n",
       "      <td>8</td>\n",
       "      <td>36</td>\n",
       "      <td>44</td>\n",
       "      <td>35</td>\n",
       "      <td>16</td>\n",
       "      <td>9</td>\n",
       "      <td>8</td>\n",
       "      <td>22</td>\n",
       "      <td>7</td>\n",
       "    </tr>\n",
       "    <tr>\n",
       "      <th>2</th>\n",
       "      <td>CHI @ MIL</td>\n",
       "      <td>04/05/2023</td>\n",
       "      <td>L</td>\n",
       "      <td>48</td>\n",
       "      <td>92</td>\n",
       "      <td>36</td>\n",
       "      <td>83</td>\n",
       "      <td>43.4</td>\n",
       "      <td>11</td>\n",
       "      <td>33</td>\n",
       "      <td>...</td>\n",
       "      <td>81.8</td>\n",
       "      <td>5</td>\n",
       "      <td>33</td>\n",
       "      <td>38</td>\n",
       "      <td>28</td>\n",
       "      <td>15</td>\n",
       "      <td>10</td>\n",
       "      <td>3</td>\n",
       "      <td>11</td>\n",
       "      <td>-13</td>\n",
       "    </tr>\n",
       "    <tr>\n",
       "      <th>3</th>\n",
       "      <td>BKN @ DET</td>\n",
       "      <td>04/05/2023</td>\n",
       "      <td>W</td>\n",
       "      <td>48</td>\n",
       "      <td>123</td>\n",
       "      <td>45</td>\n",
       "      <td>86</td>\n",
       "      <td>52.3</td>\n",
       "      <td>17</td>\n",
       "      <td>43</td>\n",
       "      <td>...</td>\n",
       "      <td>69.6</td>\n",
       "      <td>11</td>\n",
       "      <td>27</td>\n",
       "      <td>38</td>\n",
       "      <td>36</td>\n",
       "      <td>13</td>\n",
       "      <td>6</td>\n",
       "      <td>7</td>\n",
       "      <td>12</td>\n",
       "      <td>15</td>\n",
       "    </tr>\n",
       "    <tr>\n",
       "      <th>4</th>\n",
       "      <td>WAS @ ATL</td>\n",
       "      <td>04/05/2023</td>\n",
       "      <td>L</td>\n",
       "      <td>48</td>\n",
       "      <td>116</td>\n",
       "      <td>45</td>\n",
       "      <td>94</td>\n",
       "      <td>47.9</td>\n",
       "      <td>6</td>\n",
       "      <td>28</td>\n",
       "      <td>...</td>\n",
       "      <td>76.9</td>\n",
       "      <td>12</td>\n",
       "      <td>27</td>\n",
       "      <td>39</td>\n",
       "      <td>23</td>\n",
       "      <td>14</td>\n",
       "      <td>10</td>\n",
       "      <td>9</td>\n",
       "      <td>26</td>\n",
       "      <td>-18</td>\n",
       "    </tr>\n",
       "  </tbody>\n",
       "</table>\n",
       "<p>5 rows × 23 columns</p>\n",
       "</div>"
      ],
      "text/plain": [
       "      MATCH UP   GAME DATE W/L MIN  PTS FGM  FGA   FG% 3PM 3PA  ...   FT%  \\\n",
       "0    SAC @ DAL  04/05/2023   L  48  119  46  106  43.4  12  37  ...  78.9   \n",
       "1  NOP vs. MEM  04/05/2023   W  53  138  44   88  50.0  21  39  ...  74.4   \n",
       "2    CHI @ MIL  04/05/2023   L  48   92  36   83  43.4  11  33  ...  81.8   \n",
       "3    BKN @ DET  04/05/2023   W  48  123  45   86  52.3  17  43  ...  69.6   \n",
       "4    WAS @ ATL  04/05/2023   L  48  116  45   94  47.9   6  28  ...  76.9   \n",
       "\n",
       "  OREB DREB REB AST TOV STL BLK  PF  +/-  \n",
       "0   22   35  57  31   9   7   1  19   -4  \n",
       "1    8   36  44  35  16   9   8  22    7  \n",
       "2    5   33  38  28  15  10   3  11  -13  \n",
       "3   11   27  38  36  13   6   7  12   15  \n",
       "4   12   27  39  23  14  10   9  26  -18  \n",
       "\n",
       "[5 rows x 23 columns]"
      ]
     },
     "execution_count": 16,
     "metadata": {},
     "output_type": "execute_result"
    }
   ],
   "source": [
    "# Preview the dataframe\n",
    "df.head()"
   ]
  },
  {
   "cell_type": "code",
   "execution_count": 17,
   "metadata": {},
   "outputs": [],
   "source": [
    "# Save the dataframe as a CSV file in the './data' directory.\n",
    "# The sep parameter is used to specify that the separator between the data values should be a semicolon.\n",
    "#df.to_csv(\"./data/raw_data.csv\", sep=\";\")"
   ]
  },
  {
   "attachments": {},
   "cell_type": "markdown",
   "metadata": {},
   "source": [
    "**Don't forget to uncomment!**\n",
    "___"
   ]
  },
  {
   "attachments": {},
   "cell_type": "markdown",
   "metadata": {},
   "source": [
    "### Further reading\n",
    "* https://pandas.pydata.org/docs/user_guide/index.html#user-guide - Documentation for pandas.\n",
    "* https://www.selenium.dev/documentation/ - Documentation for Selenium."
   ]
  }
 ],
 "metadata": {
  "kernelspec": {
   "display_name": "env",
   "language": "python",
   "name": "python3"
  },
  "language_info": {
   "codemirror_mode": {
    "name": "ipython",
    "version": 3
   },
   "file_extension": ".py",
   "mimetype": "text/x-python",
   "name": "python",
   "nbconvert_exporter": "python",
   "pygments_lexer": "ipython3",
   "version": "3.10.7"
  },
  "orig_nbformat": 4
 },
 "nbformat": 4,
 "nbformat_minor": 2
}
