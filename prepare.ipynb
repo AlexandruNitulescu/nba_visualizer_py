{
 "cells": [
  {
   "attachments": {},
   "cell_type": "markdown",
   "metadata": {},
   "source": [
    "# Step 3 - Prepare Phase\n",
    "by Alexandru Nitulescu\n",
    "____"
   ]
  },
  {
   "attachments": {},
   "cell_type": "markdown",
   "metadata": {},
   "source": [
    "### Introduction\n",
    "In the preparation phase of this project, we used Python and various packages to scrape data from www.nba.com. However, before collecting and processing the data, we need to determine what information is necessary for the project and how it should be organized. By asking key questions such as:\n",
    " what data to retrieve, what metrics to display on the dashboard, and how the data will be visualized, we were able to define the scope and requirements of the project. Additionally, identifying any prior knowledge needed and determining how to proceed helped to ensure that we were collecting and analyzing the necessary data to create a dynamic and informative dashboard. This phase was essential in setting the foundation for the subsequent data processing and database management phases. The end goal of this project is to showcase my skills in data analysis and database management for potential job opportunities in the field.\n"
   ]
  },
  {
   "attachments": {},
   "cell_type": "markdown",
   "metadata": {},
   "source": [
    "#### 3.1 - Setup"
   ]
  },
  {
   "attachments": {},
   "cell_type": "markdown",
   "metadata": {},
   "source": [
    "Before we begin our journey, we need to make sure that we have all the required libraries installed. In this section, we will import the necessary libraries for our web scraping task."
   ]
  },
  {
   "cell_type": "code",
   "execution_count": 1,
   "metadata": {},
   "outputs": [],
   "source": [
    "# Import necessary packages\n",
    "import pandas as pd \n",
    "from bs4 import BeautifulSoup \n",
    "from selenium.webdriver.common.by import By \n",
    "from selenium import webdriver "
   ]
  },
  {
   "attachments": {},
   "cell_type": "markdown",
   "metadata": {},
   "source": [
    "#### 3.2 - Webscrape data"
   ]
  },
  {
   "cell_type": "code",
   "execution_count": 2,
   "metadata": {},
   "outputs": [],
   "source": [
    "# Create a new web browser instance of Chrome\n",
    "driver = webdriver.Chrome()"
   ]
  },
  {
   "cell_type": "code",
   "execution_count": 3,
   "metadata": {},
   "outputs": [],
   "source": [
    "# The url we want to visit\n",
    "url = 'https://www.nba.com/stats/teams/boxscores-traditional'"
   ]
  },
  {
   "cell_type": "code",
   "execution_count": 4,
   "metadata": {},
   "outputs": [],
   "source": [
    "# Open the webpage in our instance\n",
    "driver.get(url=url)"
   ]
  },
  {
   "cell_type": "code",
   "execution_count": 5,
   "metadata": {},
   "outputs": [],
   "source": [
    "# Navigate to the dropdown menu and select the option \"all\" to then click on it\n",
    "selection = driver.find_element(By.XPATH, '/html/body/div[1]/div[2]/div[2]/div[3]/section[2]/div/div[2]/div[2]/div[1]/div[3]/div/label/div/select/option[1]')\n",
    "selection.click()"
   ]
  },
  {
   "cell_type": "code",
   "execution_count": 6,
   "metadata": {},
   "outputs": [],
   "source": [
    "# Get the page source and store it in variable src\n",
    "src = driver.page_source"
   ]
  },
  {
   "cell_type": "code",
   "execution_count": 7,
   "metadata": {},
   "outputs": [],
   "source": [
    "# Parse the HTML source code\n",
    "parser = BeautifulSoup(src, \"html.parser\")"
   ]
  },
  {
   "cell_type": "code",
   "execution_count": 8,
   "metadata": {},
   "outputs": [],
   "source": [
    "# Find the div element containing the table\n",
    "table = parser.find(\"div\", attrs={\n",
    "    \"class\": \"Crom_container__C45Ti crom-container\"\n",
    "})"
   ]
  },
  {
   "cell_type": "code",
   "execution_count": 9,
   "metadata": {},
   "outputs": [],
   "source": [
    "# Create empty list for rows\n",
    "rows = []\n",
    "\n",
    "# Find all th elements within the table and extract their text\n",
    "headers = table.findAll('th')\n",
    "header_list = [header.text.strip() for header in headers[1:]]"
   ]
  },
  {
   "cell_type": "code",
   "execution_count": 10,
   "metadata": {},
   "outputs": [],
   "source": [
    "# Find all tr elements within the table except for the first one\n",
    "rows = table.findAll('tr')[1:]"
   ]
  },
  {
   "cell_type": "code",
   "execution_count": 11,
   "metadata": {},
   "outputs": [
    {
     "data": {
      "text/plain": [
       "2350"
      ]
     },
     "execution_count": 11,
     "metadata": {},
     "output_type": "execute_result"
    }
   ],
   "source": [
    "# Verify the amount of rows scraped\n",
    "len(rows)"
   ]
  },
  {
   "cell_type": "code",
   "execution_count": 12,
   "metadata": {},
   "outputs": [],
   "source": [
    "# List comprehension to iterate over the rows of the table\n",
    "team_stats = [[td.getText().strip() for td in rows[i].findAll('td')[1:]] for i in range(len(rows))]"
   ]
  },
  {
   "cell_type": "code",
   "execution_count": 13,
   "metadata": {},
   "outputs": [
    {
     "data": {
      "text/plain": [
       "['ATL vs. DAL',\n",
       " '04/02/2023',\n",
       " 'W',\n",
       " '53',\n",
       " '132',\n",
       " '51',\n",
       " '108',\n",
       " '47.2',\n",
       " '12',\n",
       " '35',\n",
       " '34.3',\n",
       " '18',\n",
       " '22',\n",
       " '81.8',\n",
       " '16',\n",
       " '37',\n",
       " '53',\n",
       " '28',\n",
       " '11',\n",
       " '10',\n",
       " '3',\n",
       " '22',\n",
       " '2']"
      ]
     },
     "execution_count": 13,
     "metadata": {},
     "output_type": "execute_result"
    }
   ],
   "source": [
    "# Showcase the row structure\n",
    "print(team_stats[0])"
   ]
  },
  {
   "cell_type": "code",
   "execution_count": 14,
   "metadata": {},
   "outputs": [],
   "source": [
    "# Create a dataframe from the 'team_stats' list and the 'header_list'\n",
    "df = pd.DataFrame(team_stats, columns=header_list)"
   ]
  },
  {
   "cell_type": "code",
   "execution_count": 15,
   "metadata": {},
   "outputs": [
    {
     "data": {
      "text/html": [
       "<div>\n",
       "<style scoped>\n",
       "    .dataframe tbody tr th:only-of-type {\n",
       "        vertical-align: middle;\n",
       "    }\n",
       "\n",
       "    .dataframe tbody tr th {\n",
       "        vertical-align: top;\n",
       "    }\n",
       "\n",
       "    .dataframe thead th {\n",
       "        text-align: right;\n",
       "    }\n",
       "</style>\n",
       "<table border=\"1\" class=\"dataframe\">\n",
       "  <thead>\n",
       "    <tr style=\"text-align: right;\">\n",
       "      <th></th>\n",
       "      <th>MATCH UP</th>\n",
       "      <th>GAME DATE</th>\n",
       "      <th>W/L</th>\n",
       "      <th>MIN</th>\n",
       "      <th>PTS</th>\n",
       "      <th>FGM</th>\n",
       "      <th>FGA</th>\n",
       "      <th>FG%</th>\n",
       "      <th>3PM</th>\n",
       "      <th>3PA</th>\n",
       "      <th>...</th>\n",
       "      <th>FT%</th>\n",
       "      <th>OREB</th>\n",
       "      <th>DREB</th>\n",
       "      <th>REB</th>\n",
       "      <th>AST</th>\n",
       "      <th>TOV</th>\n",
       "      <th>STL</th>\n",
       "      <th>BLK</th>\n",
       "      <th>PF</th>\n",
       "      <th>+/-</th>\n",
       "    </tr>\n",
       "  </thead>\n",
       "  <tbody>\n",
       "    <tr>\n",
       "      <th>0</th>\n",
       "      <td>ATL vs. DAL</td>\n",
       "      <td>04/02/2023</td>\n",
       "      <td>W</td>\n",
       "      <td>53</td>\n",
       "      <td>132</td>\n",
       "      <td>51</td>\n",
       "      <td>108</td>\n",
       "      <td>47.2</td>\n",
       "      <td>12</td>\n",
       "      <td>35</td>\n",
       "      <td>...</td>\n",
       "      <td>81.8</td>\n",
       "      <td>16</td>\n",
       "      <td>37</td>\n",
       "      <td>53</td>\n",
       "      <td>28</td>\n",
       "      <td>11</td>\n",
       "      <td>10</td>\n",
       "      <td>3</td>\n",
       "      <td>22</td>\n",
       "      <td>2</td>\n",
       "    </tr>\n",
       "    <tr>\n",
       "      <th>1</th>\n",
       "      <td>CHA vs. TOR</td>\n",
       "      <td>04/02/2023</td>\n",
       "      <td>L</td>\n",
       "      <td>48</td>\n",
       "      <td>108</td>\n",
       "      <td>42</td>\n",
       "      <td>85</td>\n",
       "      <td>49.4</td>\n",
       "      <td>15</td>\n",
       "      <td>31</td>\n",
       "      <td>...</td>\n",
       "      <td>69.2</td>\n",
       "      <td>10</td>\n",
       "      <td>27</td>\n",
       "      <td>37</td>\n",
       "      <td>26</td>\n",
       "      <td>18</td>\n",
       "      <td>3</td>\n",
       "      <td>4</td>\n",
       "      <td>11</td>\n",
       "      <td>-20</td>\n",
       "    </tr>\n",
       "    <tr>\n",
       "      <th>2</th>\n",
       "      <td>PHI @ MIL</td>\n",
       "      <td>04/02/2023</td>\n",
       "      <td>L</td>\n",
       "      <td>48</td>\n",
       "      <td>104</td>\n",
       "      <td>40</td>\n",
       "      <td>87</td>\n",
       "      <td>46.0</td>\n",
       "      <td>12</td>\n",
       "      <td>36</td>\n",
       "      <td>...</td>\n",
       "      <td>92.3</td>\n",
       "      <td>11</td>\n",
       "      <td>25</td>\n",
       "      <td>36</td>\n",
       "      <td>19</td>\n",
       "      <td>11</td>\n",
       "      <td>3</td>\n",
       "      <td>2</td>\n",
       "      <td>17</td>\n",
       "      <td>-13</td>\n",
       "    </tr>\n",
       "    <tr>\n",
       "      <th>3</th>\n",
       "      <td>POR @ MIN</td>\n",
       "      <td>04/02/2023</td>\n",
       "      <td>W</td>\n",
       "      <td>48</td>\n",
       "      <td>107</td>\n",
       "      <td>43</td>\n",
       "      <td>93</td>\n",
       "      <td>46.2</td>\n",
       "      <td>9</td>\n",
       "      <td>30</td>\n",
       "      <td>...</td>\n",
       "      <td>60.0</td>\n",
       "      <td>11</td>\n",
       "      <td>31</td>\n",
       "      <td>42</td>\n",
       "      <td>29</td>\n",
       "      <td>10</td>\n",
       "      <td>12</td>\n",
       "      <td>3</td>\n",
       "      <td>26</td>\n",
       "      <td>2</td>\n",
       "    </tr>\n",
       "    <tr>\n",
       "      <th>4</th>\n",
       "      <td>MIL vs. PHI</td>\n",
       "      <td>04/02/2023</td>\n",
       "      <td>W</td>\n",
       "      <td>48</td>\n",
       "      <td>117</td>\n",
       "      <td>46</td>\n",
       "      <td>80</td>\n",
       "      <td>57.5</td>\n",
       "      <td>10</td>\n",
       "      <td>28</td>\n",
       "      <td>...</td>\n",
       "      <td>71.4</td>\n",
       "      <td>7</td>\n",
       "      <td>35</td>\n",
       "      <td>42</td>\n",
       "      <td>28</td>\n",
       "      <td>12</td>\n",
       "      <td>8</td>\n",
       "      <td>5</td>\n",
       "      <td>17</td>\n",
       "      <td>13</td>\n",
       "    </tr>\n",
       "  </tbody>\n",
       "</table>\n",
       "<p>5 rows × 23 columns</p>\n",
       "</div>"
      ],
      "text/plain": [
       "      MATCH UP   GAME DATE W/L MIN  PTS FGM  FGA   FG% 3PM 3PA  ...   FT%   \n",
       "0  ATL vs. DAL  04/02/2023   W  53  132  51  108  47.2  12  35  ...  81.8  \\\n",
       "1  CHA vs. TOR  04/02/2023   L  48  108  42   85  49.4  15  31  ...  69.2   \n",
       "2    PHI @ MIL  04/02/2023   L  48  104  40   87  46.0  12  36  ...  92.3   \n",
       "3    POR @ MIN  04/02/2023   W  48  107  43   93  46.2   9  30  ...  60.0   \n",
       "4  MIL vs. PHI  04/02/2023   W  48  117  46   80  57.5  10  28  ...  71.4   \n",
       "\n",
       "  OREB DREB REB AST TOV STL BLK  PF  +/-  \n",
       "0   16   37  53  28  11  10   3  22    2  \n",
       "1   10   27  37  26  18   3   4  11  -20  \n",
       "2   11   25  36  19  11   3   2  17  -13  \n",
       "3   11   31  42  29  10  12   3  26    2  \n",
       "4    7   35  42  28  12   8   5  17   13  \n",
       "\n",
       "[5 rows x 23 columns]"
      ]
     },
     "execution_count": 15,
     "metadata": {},
     "output_type": "execute_result"
    }
   ],
   "source": [
    "# Show the five first rows\n",
    "df.head()"
   ]
  },
  {
   "cell_type": "code",
   "execution_count": 16,
   "metadata": {},
   "outputs": [],
   "source": [
    "# Save the dataframe as a CSV file in the './data' directory.\n",
    "# The sep parameter is used to specify that the separator between the data values should be a semicolon.\n",
    "df.to_csv(\"./data/raw_data.csv\", sep=\";\")"
   ]
  }
 ],
 "metadata": {
  "kernelspec": {
   "display_name": "env",
   "language": "python",
   "name": "python3"
  },
  "language_info": {
   "codemirror_mode": {
    "name": "ipython",
    "version": 3
   },
   "file_extension": ".py",
   "mimetype": "text/x-python",
   "name": "python",
   "nbconvert_exporter": "python",
   "pygments_lexer": "ipython3",
   "version": "3.10.7"
  },
  "orig_nbformat": 4
 },
 "nbformat": 4,
 "nbformat_minor": 2
}
